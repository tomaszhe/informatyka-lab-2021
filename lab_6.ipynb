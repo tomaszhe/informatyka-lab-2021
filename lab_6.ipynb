{
  "nbformat": 4,
  "nbformat_minor": 0,
  "metadata": {
    "colab": {
      "name": "lab_6",
      "provenance": [],
      "collapsed_sections": [],
      "authorship_tag": "ABX9TyP31p5/JPX75rjoDvye2hOU",
      "include_colab_link": true
    },
    "kernelspec": {
      "name": "python3",
      "display_name": "Python 3"
    },
    "language_info": {
      "name": "python"
    }
  },
  "cells": [
    {
      "cell_type": "markdown",
      "metadata": {
        "id": "view-in-github",
        "colab_type": "text"
      },
      "source": [
        "<a href=\"https://colab.research.google.com/github/tomaszhe/informatyka-lab-2021/blob/main/lab_6.ipynb\" target=\"_parent\"><img src=\"https://colab.research.google.com/assets/colab-badge.svg\" alt=\"Open In Colab\"/></a>"
      ]
    },
    {
      "cell_type": "code",
      "metadata": {
        "colab": {
          "base_uri": "https://localhost:8080/"
        },
        "id": "Q8U9CQ0D5Vjd",
        "outputId": "7660b7ea-1883-4cd3-ab95-15db89990957"
      },
      "source": [
        "#zad 2\n",
        "dic = {'1' : 'a' , '2' : 'b' , '3' : 'c' , '4' : 'd' , '5' : 'e' , '6' : 'f' , '7' : 'g' , '8' : 'h' , '9' : 'i' , '10' : 'j'}\n",
        "dic['11'] = 'k'\n",
        "print(dic)\n",
        "print(dic.get('3'))\n",
        "print(dic.copy())\n",
        "print(dic.fromkeys(('1' , '2' , '3') , 'b'))\n",
        "print(dic.get('a' , 0))\n",
        "print(dic.items())\n",
        "print(dic.keys())\n",
        "print(dic.pop('3'))\n",
        "print(dic.popitem())\n",
        "dic.setdefault('a' , 'asb')\n",
        "print(dic)\n",
        "A = {'1' : 'kasd' , 'poasd' : 'as'}\n",
        "(dic.update(A))\n",
        "dic.values()\n"
      ],
      "execution_count": null,
      "outputs": [
        {
          "output_type": "stream",
          "text": [
            "{'1': 'a', '2': 'b', '3': 'c', '4': 'd', '5': 'e', '6': 'f', '7': 'g', '8': 'h', '9': 'i', '10': 'j', '11': 'k'}\n",
            "c\n",
            "{'1': 'a', '2': 'b', '3': 'c', '4': 'd', '5': 'e', '6': 'f', '7': 'g', '8': 'h', '9': 'i', '10': 'j', '11': 'k'}\n",
            "{'1': 'b', '2': 'b', '3': 'b'}\n",
            "0\n",
            "dict_items([('1', 'a'), ('2', 'b'), ('3', 'c'), ('4', 'd'), ('5', 'e'), ('6', 'f'), ('7', 'g'), ('8', 'h'), ('9', 'i'), ('10', 'j'), ('11', 'k')])\n",
            "dict_keys(['1', '2', '3', '4', '5', '6', '7', '8', '9', '10', '11'])\n",
            "c\n",
            "('11', 'k')\n",
            "{'1': 'a', '2': 'b', '4': 'd', '5': 'e', '6': 'f', '7': 'g', '8': 'h', '9': 'i', '10': 'j', 'a': 'asb'}\n"
          ],
          "name": "stdout"
        },
        {
          "output_type": "execute_result",
          "data": {
            "text/plain": [
              "dict_values(['kasd', 'b', 'd', 'e', 'f', 'g', 'h', 'i', 'j', 'asb', 'as'])"
            ]
          },
          "metadata": {
            "tags": []
          },
          "execution_count": 35
        }
      ]
    },
    {
      "cell_type": "code",
      "metadata": {
        "id": "g8WZz4GeBYvV"
      },
      "source": [
        "#zad 3 \n",
        "def MergeSort(arr, p, r):\n",
        "  if len(arr) > 1:\n",
        "    q = (p+r)//2\n",
        "    lewo = arr[p:q]\n",
        "    prawo = arr[q:r]\n",
        "    MergeSort(lewo, p, q)\n",
        "    MergeSort(prawo, 0, r - q)\n",
        "    i = j = 0\n",
        "    k = p\n",
        "    while i < len(lewo) and j < len(prawo):\n",
        "      if lewo[i] < prawo[j]:\n",
        "        arr[k] = lewo[i]\n",
        "        i += 1\n",
        "      else:\n",
        "        arr[k] = prawo[j]\n",
        "        j += 1\n",
        "      k += 1\n",
        "    while i <len(lewo):\n",
        "      arr[k] = lewo[i]\n",
        "      i += 1\n",
        "      k += 1\n",
        "    while j < len(prawo):\n",
        "      arr[k] = prawo[j]\n",
        "      j += 1\n",
        "      k += 1\n",
        "    return arr\n",
        "\n",
        "    \n",
        "    \n",
        "\n"
      ],
      "execution_count": null,
      "outputs": []
    },
    {
      "cell_type": "code",
      "metadata": {
        "colab": {
          "base_uri": "https://localhost:8080/"
        },
        "id": "qOEvrpfrEPsJ",
        "outputId": "b3a3e3cf-e479-4dd1-a271-455546eec838"
      },
      "source": [
        "arr = [5, 2, 8, 1, 3]\n",
        "MergeSort(arr, 2, 4)\n",
        "MergeSort(arr, 0, 5)"
      ],
      "execution_count": null,
      "outputs": [
        {
          "output_type": "execute_result",
          "data": {
            "text/plain": [
              "[1, 2, 3, 5, 8]"
            ]
          },
          "metadata": {
            "tags": []
          },
          "execution_count": 100
        }
      ]
    },
    {
      "cell_type": "code",
      "metadata": {
        "id": "xIa4xafrLzGu",
        "colab": {
          "base_uri": "https://localhost:8080/"
        },
        "outputId": "d47ea472-b4dc-474f-c538-b063c8920f6c"
      },
      "source": [
        "arr = [5, 2, 8, 1, 3]\n",
        "MergeSort(arr, 2, 4)"
      ],
      "execution_count": null,
      "outputs": [
        {
          "output_type": "execute_result",
          "data": {
            "text/plain": [
              "[5, 2, 1, 8, 3]"
            ]
          },
          "metadata": {
            "tags": []
          },
          "execution_count": 101
        }
      ]
    },
    {
      "cell_type": "code",
      "metadata": {
        "id": "SLlzaEGAPq4a"
      },
      "source": [
        "#zad 4\n",
        "def QuickSort(arr, p, r):\n",
        "  arr_copy = arr.copy()\n",
        "  for h in range(r, p, -1):\n",
        "    q = arr_copy[h]\n",
        "    for i in range(h-1): \n",
        "      if q > arr[p+i]:\n",
        "        pass\n",
        "      if q < arr[p+i]:\n",
        "        arr[p+i], arr[h] = arr[h], arr[p+i]\n",
        "  return arr\n",
        "  \n"
      ],
      "execution_count": null,
      "outputs": []
    },
    {
      "cell_type": "code",
      "metadata": {
        "colab": {
          "base_uri": "https://localhost:8080/"
        },
        "id": "tgofbL7DUaij",
        "outputId": "c9ee13fb-9f51-489a-893d-b53af785f2e1"
      },
      "source": [
        "arr = [1, 10, 4, 2, 5]\n",
        "QuickSort(arr, 2, 4)"
      ],
      "execution_count": null,
      "outputs": [
        {
          "output_type": "execute_result",
          "data": {
            "text/plain": [
              "[1, 10, 2, 4, 5]"
            ]
          },
          "metadata": {
            "tags": []
          },
          "execution_count": 275
        }
      ]
    },
    {
      "cell_type": "code",
      "metadata": {
        "id": "tAo4_OxQpiHK"
      },
      "source": [
        "#zad 5\n",
        "def six_to_zero(arr):\n",
        "  sum = 0\n",
        "  for a in range(len(arr)):\n",
        "    for b in range(a, len(arr)):\n",
        "      for c in range(b, len(arr)):\n",
        "        for d in range(c, len(arr)):\n",
        "          for e in range(d, len(arr)):\n",
        "            for f in range(e, len(arr)):\n",
        "              if a < b < c < d < e < f:\n",
        "                sum += arr[a]\n",
        "                sum += arr[b]\n",
        "                sum += arr[c]\n",
        "                sum += arr[d]\n",
        "                sum += arr[e]\n",
        "                sum += arr[f]\n",
        "                if sum == 0:\n",
        "                  return 'w liscie znajduje sie 6 takich elementow'\n",
        "                if sum != 0:\n",
        "                  return 'w liscie nie znajduje sie 6 takich elementow'\n",
        "                \n"
      ],
      "execution_count": 1,
      "outputs": []
    },
    {
      "cell_type": "code",
      "metadata": {
        "colab": {
          "base_uri": "https://localhost:8080/",
          "height": 35
        },
        "id": "YLLYWv_HsaSH",
        "outputId": "4f2d1587-17d2-450d-df24-a5f76b6c727c"
      },
      "source": [
        "arr = [0, 0, 0, 0, 0, 0, 2, -2]\n",
        "six_to_zero(arr)"
      ],
      "execution_count": 2,
      "outputs": [
        {
          "output_type": "execute_result",
          "data": {
            "application/vnd.google.colaboratory.intrinsic+json": {
              "type": "string"
            },
            "text/plain": [
              "'w liscie znajduje sie 6 takich elementow'"
            ]
          },
          "metadata": {
            "tags": []
          },
          "execution_count": 2
        }
      ]
    },
    {
      "cell_type": "code",
      "metadata": {
        "colab": {
          "base_uri": "https://localhost:8080/",
          "height": 35
        },
        "id": "Eu8erXH5wtL-",
        "outputId": "6da6508d-9573-447e-9d54-9e655c2b0475"
      },
      "source": [
        "arr = [1,-1, 0, 2, 3, 5, 10, 3]\n",
        "six_to_zero(arr)"
      ],
      "execution_count": 3,
      "outputs": [
        {
          "output_type": "execute_result",
          "data": {
            "application/vnd.google.colaboratory.intrinsic+json": {
              "type": "string"
            },
            "text/plain": [
              "'w liscie nie znajduje sie 6 takich elementow'"
            ]
          },
          "metadata": {
            "tags": []
          },
          "execution_count": 3
        }
      ]
    },
    {
      "cell_type": "code",
      "metadata": {
        "id": "6V6OXD7EV_zx"
      },
      "source": [
        "#zad 7\n",
        "def max_subarray(arr):\n",
        "  l_1 = 0\n",
        "  l_0 = 0\n",
        "  for el in arr:\n",
        "    if el == 1:\n",
        "      l_1 += 1\n",
        "    if el == 0:\n",
        "      l_0 += 1\n",
        "\n",
        "  if l_1 > l_0:\n",
        "    k = l_1 - l_0\n",
        "    if arr[:k] == [1]*k:\n",
        "      return arr[k:]\n",
        "    if arr[:-k:-1] == [1]*k:\n",
        "      return arr[:2*l_0]\n",
        "    elif arr[0] == 1: \n",
        "      return max_subarray(arr[1:])\n",
        "    else:\n",
        "      return max_subarray(arr[:-1])\n",
        "  if l_0 > l_1:\n",
        "    j = l_0 - l_1\n",
        "    if arr[:j] == [0]*j:\n",
        "      return arr[j:]\n",
        "    if arr[:-j:-1] == [0]*j:\n",
        "      return arr[:2*l_0]\n",
        "    elif arr[0] == 0: \n",
        "      return max_subarray(arr[1:])\n",
        "    else:\n",
        "      return max_subarray(arr[:-1])\n",
        "  if l_0 == l_1:\n",
        "    return arr\n"
      ],
      "execution_count": 31,
      "outputs": []
    },
    {
      "cell_type": "code",
      "metadata": {
        "colab": {
          "base_uri": "https://localhost:8080/"
        },
        "id": "6lqMTEDIaRUH",
        "outputId": "6addb3d5-4fd7-4abf-ca25-a656bd451ec1"
      },
      "source": [
        "arr = [0, 1, 0, 1, 0, 1, 0, 1, 1, 1, 1, 0, 1, 0]\n",
        "max_subarray(arr)"
      ],
      "execution_count": 33,
      "outputs": [
        {
          "output_type": "execute_result",
          "data": {
            "text/plain": [
              "[0, 1, 0, 1, 0, 1, 0, 1]"
            ]
          },
          "metadata": {
            "tags": []
          },
          "execution_count": 33
        }
      ]
    }
  ]
}