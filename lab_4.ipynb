{
  "nbformat": 4,
  "nbformat_minor": 0,
  "metadata": {
    "colab": {
      "name": "lab_4",
      "provenance": [],
      "collapsed_sections": [],
      "authorship_tag": "ABX9TyOCUXxp1CB/tVH6SPdY6YWD",
      "include_colab_link": true
    },
    "kernelspec": {
      "name": "python3",
      "display_name": "Python 3"
    },
    "language_info": {
      "name": "python"
    }
  },
  "cells": [
    {
      "cell_type": "markdown",
      "metadata": {
        "id": "view-in-github",
        "colab_type": "text"
      },
      "source": [
        "<a href=\"https://colab.research.google.com/github/tomaszhe/informatyka-lab-2021/blob/main/lab_4.ipynb\" target=\"_parent\"><img src=\"https://colab.research.google.com/assets/colab-badge.svg\" alt=\"Open In Colab\"/></a>"
      ]
    },
    {
      "cell_type": "code",
      "metadata": {
        "id": "jH-E1ZgF51wA"
      },
      "source": [
        "def insertionSort(arr):\n",
        "     for i in range(1, len(arr)):\n",
        "        key = arr[i]\n",
        "        j = i-1\n",
        "        while j >= 0 and key < arr[j] :\n",
        "                arr[j + 1] = arr[j]\n",
        "                j -= 1\n",
        "        arr[j + 1] = key"
      ],
      "execution_count": null,
      "outputs": []
    },
    {
      "cell_type": "markdown",
      "metadata": {
        "id": "3cg4M097KSmd"
      },
      "source": [
        "zad 1 "
      ]
    },
    {
      "cell_type": "code",
      "metadata": {
        "id": "6VQS2lch57WY"
      },
      "source": [
        "def before_last(arr):\n",
        "  insertionSort(arr)\n",
        "  print(arr[len(arr) - 2])"
      ],
      "execution_count": null,
      "outputs": []
    },
    {
      "cell_type": "code",
      "metadata": {
        "colab": {
          "base_uri": "https://localhost:8080/"
        },
        "id": "QdnaqxT06z9e",
        "outputId": "b546710c-cfcf-4dc3-d192-77cd5bb330ba"
      },
      "source": [
        "arr = [1,2,5,1,2,7]\n",
        "before_last(arr)"
      ],
      "execution_count": null,
      "outputs": [
        {
          "output_type": "stream",
          "text": [
            "5\n"
          ],
          "name": "stdout"
        }
      ]
    },
    {
      "cell_type": "code",
      "metadata": {
        "id": "K0G-SxIWG34L"
      },
      "source": [
        "def string_length_(str_):\n",
        "    count = 0\n",
        "    for el in str_:\n",
        "        count += 1\n",
        "    return count"
      ],
      "execution_count": null,
      "outputs": []
    },
    {
      "cell_type": "markdown",
      "metadata": {
        "id": "t1pxPNG-L7qe"
      },
      "source": [
        "zad 3 "
      ]
    },
    {
      "cell_type": "code",
      "metadata": {
        "id": "2mXRJt4OLfvZ"
      },
      "source": [
        "def substr_rec(string):\n",
        "  count = 0\n",
        "  while string_length_(string) >= 3:\n",
        "    if string[:3] == 'abc':\n",
        "      count += 1\n",
        "      string = string[3:]\n",
        "      substr_rec(string)\n",
        "    else:\n",
        "      string = string[1:]\n",
        "      substr_rec(string)\n",
        "  if string_length_(string) < 3:\n",
        "    return count"
      ],
      "execution_count": null,
      "outputs": []
    },
    {
      "cell_type": "code",
      "metadata": {
        "colab": {
          "base_uri": "https://localhost:8080/"
        },
        "id": "wwVg-UxbPV3_",
        "outputId": "54dc51a0-fde7-4c3b-b951-f5ec480170fc"
      },
      "source": [
        "substr_rec('abcaabc')"
      ],
      "execution_count": null,
      "outputs": [
        {
          "output_type": "stream",
          "text": [
            "2\n"
          ],
          "name": "stdout"
        }
      ]
    },
    {
      "cell_type": "markdown",
      "metadata": {
        "id": "J70EWsBSJ-Hx"
      },
      "source": [
        "zad 4 "
      ]
    },
    {
      "cell_type": "code",
      "metadata": {
        "id": "dnCzyZmsFWmv"
      },
      "source": [
        "def substr(string):\n",
        "  count = 0\n",
        "  L = string_length_(string)\n",
        "  for i in range(L):\n",
        "    if string[i:i+3] == 'abc':\n",
        "      count +=1\n",
        "  print(count)\n"
      ],
      "execution_count": null,
      "outputs": []
    },
    {
      "cell_type": "code",
      "metadata": {
        "colab": {
          "base_uri": "https://localhost:8080/"
        },
        "id": "qYdMGMx9Jck4",
        "outputId": "143ded03-cef7-42d5-8fa0-1ff6f42c1649"
      },
      "source": [
        "substr('abckajsdsabcashdjahabc')"
      ],
      "execution_count": null,
      "outputs": [
        {
          "output_type": "stream",
          "text": [
            "3\n"
          ],
          "name": "stdout"
        }
      ]
    },
    {
      "cell_type": "markdown",
      "metadata": {
        "id": "lD-b8mJX_vfB"
      },
      "source": [
        "zad 5\n"
      ]
    },
    {
      "cell_type": "code",
      "metadata": {
        "id": "RUVRFvbt_zmd"
      },
      "source": [
        "def potega_rec(n)\n",
        "  if n > 0:\n",
        "    if type(n) == int:\n",
        "      if n == 1:\n",
        "        return 1\n",
        "      else:\n",
        "        return \n",
        "\n"
      ],
      "execution_count": null,
      "outputs": []
    },
    {
      "cell_type": "markdown",
      "metadata": {
        "id": "Et5AzFNcFUm9"
      },
      "source": [
        "zad 6"
      ]
    },
    {
      "cell_type": "code",
      "metadata": {
        "id": "7siZHjaVFV25"
      },
      "source": [
        "def potega(n):\n",
        "  L = []\n",
        "  A = 1\n",
        "  if type(n) == int and n > 0:\n",
        "    for i in range(n):\n",
        "      L += [ n ]\n",
        "      A = A*L[i]\n",
        "    print(A)\n",
        "  else:\n",
        "    print('podaj liczbe naturalna')"
      ],
      "execution_count": null,
      "outputs": []
    },
    {
      "cell_type": "code",
      "metadata": {
        "colab": {
          "base_uri": "https://localhost:8080/"
        },
        "id": "sUBEARp9J6tJ",
        "outputId": "edabf8a8-1519-4a3d-d5b6-e94a25762f9d"
      },
      "source": [
        "potega(-2)"
      ],
      "execution_count": null,
      "outputs": [
        {
          "output_type": "stream",
          "text": [
            "podaj liczbe naturalna\n"
          ],
          "name": "stdout"
        }
      ]
    },
    {
      "cell_type": "code",
      "metadata": {
        "colab": {
          "base_uri": "https://localhost:8080/"
        },
        "id": "Y1ambW21GJY0",
        "outputId": "fcb57146-dd4d-490d-ac4c-ea6593bb2c5a"
      },
      "source": [
        "potega(3)"
      ],
      "execution_count": null,
      "outputs": [
        {
          "output_type": "stream",
          "text": [
            "27\n"
          ],
          "name": "stdout"
        }
      ]
    },
    {
      "cell_type": "code",
      "metadata": {
        "colab": {
          "base_uri": "https://localhost:8080/"
        },
        "id": "jLNfLbgjJYxI",
        "outputId": "eecf498c-7878-48f4-953e-55dd5cd5cc04"
      },
      "source": [
        "potega(5)"
      ],
      "execution_count": null,
      "outputs": [
        {
          "output_type": "stream",
          "text": [
            "3125\n"
          ],
          "name": "stdout"
        }
      ]
    }
  ]
}
