{
  "nbformat": 4,
  "nbformat_minor": 0,
  "metadata": {
    "colab": {
      "name": "19.03.2021",
      "provenance": [],
      "authorship_tag": "ABX9TyMSZ6SkR9F+Fr9QJeJcx8gA",
      "include_colab_link": true
    },
    "kernelspec": {
      "name": "python3",
      "display_name": "Python 3"
    }
  },
  "cells": [
    {
      "cell_type": "markdown",
      "metadata": {
        "id": "view-in-github",
        "colab_type": "text"
      },
      "source": [
        "<a href=\"https://colab.research.google.com/github/tomaszhe/zadanie-domowe/blob/main/19_03_2021.ipynb\" target=\"_parent\"><img src=\"https://colab.research.google.com/assets/colab-badge.svg\" alt=\"Open In Colab\"/></a>"
      ]
    },
    {
      "cell_type": "code",
      "metadata": {
        "id": "pCVMTg9JizQ9"
      },
      "source": [
        ""
      ],
      "execution_count": null,
      "outputs": []
    },
    {
      "cell_type": "markdown",
      "metadata": {
        "id": "g5Nx9zbGiz-7"
      },
      "source": [
        "zadanie 2"
      ]
    },
    {
      "cell_type": "code",
      "metadata": {
        "colab": {
          "base_uri": "https://localhost:8080/"
        },
        "id": "iJto4sofi1vX",
        "outputId": "4a60ab2d-00b7-4da9-8bb4-c35b447b3dea"
      },
      "source": [
        "lista = [2, 115, 103, 5165, 106]\r\n",
        "print(lista)\r\n",
        "lista.append(100)\r\n",
        "print(lista)\r\n",
        "print(lista.count(2))\r\n",
        "l = [-1, -2, -3]\r\n",
        "lista.extend(l)\r\n",
        "print(lista)\r\n",
        "print(lista.index(103))\r\n",
        "lista.insert(0, 2021)\r\n",
        "print(lista)\r\n",
        "lista.pop()\r\n",
        "print(lista)\r\n",
        "x = lista.pop()\r\n",
        "x = lista.pop(1)\r\n",
        "print('lista po usunięciu elementu o indeksie 1 =', lista)\r\n",
        "print('usunięty element =', x)\r\n",
        "lista.remove(103)\r\n",
        "print(lista)\r\n",
        "lista.reverse()\r\n",
        "print(lista)\r\n",
        "lista.sort\r\n",
        "print('posortowana lista =', lista)\r\n",
        "print(sorted(lista))"
      ],
      "execution_count": 2,
      "outputs": [
        {
          "output_type": "stream",
          "text": [
            "[2, 115, 103, 5165, 106]\n",
            "[2, 115, 103, 5165, 106, 100]\n",
            "1\n",
            "[2, 115, 103, 5165, 106, 100, -1, -2, -3]\n",
            "2\n",
            "[2021, 2, 115, 103, 5165, 106, 100, -1, -2, -3]\n",
            "[2021, 2, 115, 103, 5165, 106, 100, -1, -2]\n",
            "lista po usunięciu elementu o indeksie 1 = [2021, 115, 103, 5165, 106, 100, -1]\n",
            "usunięty element = 2\n",
            "[2021, 115, 5165, 106, 100, -1]\n",
            "[-1, 100, 106, 5165, 115, 2021]\n",
            "posortowana lista = [-1, 100, 106, 5165, 115, 2021]\n",
            "[-1, 100, 106, 115, 2021, 5165]\n"
          ],
          "name": "stdout"
        }
      ]
    },
    {
      "cell_type": "markdown",
      "metadata": {
        "id": "aVK6KK8Wi3he"
      },
      "source": [
        "zadanie 3 "
      ]
    },
    {
      "cell_type": "code",
      "metadata": {
        "colab": {
          "base_uri": "https://localhost:8080/"
        },
        "id": "LvfGhIEXi4eN",
        "outputId": "c764ef3f-4349-407d-f96b-74b1e2bb6d7f"
      },
      "source": [
        "lista = [10, 12, 16, 18]\r\n",
        "srednia_ar = 0\r\n",
        "srednia_har = 0\r\n",
        "dlugosc_listy = 0\r\n",
        "for el in lista :\r\n",
        "  srednia_ar += el\r\n",
        "  srednia_har += 1/el\r\n",
        "  dlugosc_listy += 1\r\n",
        "print('srednia arytmetyczna z całej listy =', srednia_ar/dlugosc_listy)\r\n",
        "print('srednia harmoniczna z calej listy =', dlugosc_listy/srednia_har)\r\n",
        "\r\n",
        "srednia_ar_poczatek = 0\r\n",
        "srednia_ar_koniec = 0\r\n",
        "srednia_har_poczatek = 0\r\n",
        "srednia_har_koniec = 0\r\n",
        "for i in range(3):\r\n",
        "    srednia_ar_poczatek += lista[i]\r\n",
        "    srednia_ar_koniec += lista[-i - 1]\r\n",
        "for i in range(3):\r\n",
        "  srednia_har_poczatek += 1/lista[i]\r\n",
        "  srednia_har_koniec += 1/lista[-i - 1]\r\n",
        "print('srednia arytmetyczna z 3 pierwszych elementow =', srednia_ar_poczatek/3)\r\n",
        "print('srednia harmoniczna z 3 pierwszych elementow =', 3/srednia_har_poczatek)\r\n",
        "print('srednia arytmetyczna z 3 ostatnich elementow =', srednia_ar_koniec/3)\r\n",
        "print('srednia harmoniczna z 3 ostatnich elementow =', 3/srednia_har_koniec)"
      ],
      "execution_count": 1,
      "outputs": [
        {
          "output_type": "stream",
          "text": [
            "srednia arytmetyczna z całej listy = 14.0\n",
            "srednia harmoniczna z calej listy = 13.271889400921657\n",
            "srednia arytmetyczna z 3 pierwszych elementow = 12.666666666666666\n",
            "srednia harmoniczna z 3 pierwszych elementow = 12.203389830508474\n",
            "srednia arytmetyczna z 3 ostatnich elementow = 15.333333333333334\n",
            "srednia harmoniczna z 3 ostatnich elementow = 14.89655172413793\n"
          ],
          "name": "stdout"
        }
      ]
    }
  ]
}