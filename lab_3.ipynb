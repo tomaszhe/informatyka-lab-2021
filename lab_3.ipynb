{
  "nbformat": 4,
  "nbformat_minor": 0,
  "metadata": {
    "colab": {
      "name": "lab 3 ",
      "provenance": [],
      "collapsed_sections": [],
      "authorship_tag": "ABX9TyNy2AsOR57VNGkgXVVi7M7A",
      "include_colab_link": true
    },
    "kernelspec": {
      "name": "python3",
      "display_name": "Python 3"
    },
    "language_info": {
      "name": "python"
    }
  },
  "cells": [
    {
      "cell_type": "markdown",
      "metadata": {
        "id": "view-in-github",
        "colab_type": "text"
      },
      "source": [
        "<a href=\"https://colab.research.google.com/github/tomaszhe/informatyka-lab-2021/blob/main/lab_3.ipynb\" target=\"_parent\"><img src=\"https://colab.research.google.com/assets/colab-badge.svg\" alt=\"Open In Colab\"/></a>"
      ]
    },
    {
      "cell_type": "code",
      "metadata": {
        "id": "lAOM-RgRGRJH"
      },
      "source": [
        "def multiplication(n):\n",
        "  if n == 0:\n",
        "    return 0\n",
        "  if n < 0:\n",
        "      return -multiplication(-n)\n",
        "  if type(n) == float:\n",
        "    return multiplication(int(n)) + multiplication((n - int(n)) * 10) / 10 \n",
        "  else:\n",
        "    return multiplication(n-1) + 3"
      ],
      "execution_count": 76,
      "outputs": []
    },
    {
      "cell_type": "code",
      "metadata": {
        "colab": {
          "base_uri": "https://localhost:8080/"
        },
        "id": "3Hwb6TXRKCNE",
        "outputId": "3bb33c69-8712-405c-c64d-338445a93727"
      },
      "source": [
        "multiplication(968)"
      ],
      "execution_count": 80,
      "outputs": [
        {
          "output_type": "execute_result",
          "data": {
            "text/plain": [
              "2904"
            ]
          },
          "metadata": {
            "tags": []
          },
          "execution_count": 80
        }
      ]
    },
    {
      "cell_type": "code",
      "metadata": {
        "colab": {
          "base_uri": "https://localhost:8080/"
        },
        "id": "NcQRy63jKXlx",
        "outputId": "ce64cd5c-0b09-4e3c-d44b-1e5f547a5a24"
      },
      "source": [
        "multiplication(0)"
      ],
      "execution_count": 79,
      "outputs": [
        {
          "output_type": "execute_result",
          "data": {
            "text/plain": [
              "0"
            ]
          },
          "metadata": {
            "tags": []
          },
          "execution_count": 79
        }
      ]
    },
    {
      "cell_type": "code",
      "metadata": {
        "colab": {
          "base_uri": "https://localhost:8080/"
        },
        "id": "ddqKraEgKZ8i",
        "outputId": "c0ca1c75-a802-45e1-a6ee-b058d972ccb5"
      },
      "source": [
        "multiplication(-2)"
      ],
      "execution_count": 78,
      "outputs": [
        {
          "output_type": "execute_result",
          "data": {
            "text/plain": [
              "-6"
            ]
          },
          "metadata": {
            "tags": []
          },
          "execution_count": 78
        }
      ]
    },
    {
      "cell_type": "code",
      "metadata": {
        "colab": {
          "base_uri": "https://localhost:8080/"
        },
        "id": "voDdA5DeRVDa",
        "outputId": "b792547a-9904-4bb0-86c4-018c3762ec9e"
      },
      "source": [
        "multiplication(2.5)"
      ],
      "execution_count": 77,
      "outputs": [
        {
          "output_type": "execute_result",
          "data": {
            "text/plain": [
              "7.5"
            ]
          },
          "metadata": {
            "tags": []
          },
          "execution_count": 77
        }
      ]
    },
    {
      "cell_type": "code",
      "metadata": {
        "id": "MgIpsdYPLslT"
      },
      "source": [
        "def insertionSort(arr):\n",
        "     for i in range(1, len(arr)):\n",
        "        key = arr[i]\n",
        "        j = i-1\n",
        "        while j >= 0 and key < arr[j] :\n",
        "                arr[j + 1] = arr[j]\n",
        "                j -= 1\n",
        "        arr[j + 1] = key"
      ],
      "execution_count": 53,
      "outputs": []
    },
    {
      "cell_type": "code",
      "metadata": {
        "id": "hFLS_yqRKjHh"
      },
      "source": [
        "def find_median(list_):\n",
        "  insertionSort(list_)\n",
        "  if len(list_) % 2 == 0:\n",
        "    return (list_[len(list_) // 2] + list_[(len(list_) // 2) - 1]) / 2\n",
        "  if len(list_) % 2 == 1:\n",
        "    return (list_[len(list_) // 2])\n",
        "\n"
      ],
      "execution_count": 66,
      "outputs": []
    },
    {
      "cell_type": "code",
      "metadata": {
        "colab": {
          "base_uri": "https://localhost:8080/"
        },
        "id": "X2nNd2ayOL7q",
        "outputId": "665daa31-65fd-483a-98c1-133c970b7181"
      },
      "source": [
        "list_ = [15 , 12.5, 3, 6]\n",
        "find_median(list_)"
      ],
      "execution_count": 67,
      "outputs": [
        {
          "output_type": "execute_result",
          "data": {
            "text/plain": [
              "9.25"
            ]
          },
          "metadata": {
            "tags": []
          },
          "execution_count": 67
        }
      ]
    },
    {
      "cell_type": "code",
      "metadata": {
        "colab": {
          "base_uri": "https://localhost:8080/"
        },
        "id": "LVQOj1s3PiZO",
        "outputId": "43cf35e7-9df3-48e0-e89c-e8e2d7d883fa"
      },
      "source": [
        "list_ = [14, 12, 10, 52, 38]\n",
        "find_median(list_)"
      ],
      "execution_count": 69,
      "outputs": [
        {
          "output_type": "execute_result",
          "data": {
            "text/plain": [
              "14"
            ]
          },
          "metadata": {
            "tags": []
          },
          "execution_count": 69
        }
      ]
    },
    {
      "cell_type": "code",
      "metadata": {
        "id": "RiUsIOpXP5dc"
      },
      "source": [
        "def insertionSort(arr):\n",
        "     for i in range(1, len(arr)):\n",
        "        key = arr[i]\n",
        "        j = i-1\n",
        "        while j >= 0 and key > arr[j] :\n",
        "                arr[j + 1] = arr[j]\n",
        "                j -= 1\n",
        "        arr[j + 1] = key"
      ],
      "execution_count": 70,
      "outputs": []
    },
    {
      "cell_type": "code",
      "metadata": {
        "colab": {
          "base_uri": "https://localhost:8080/"
        },
        "id": "_WgsO2NhQghy",
        "outputId": "edc87137-c9bf-4cb6-a108-b14c685a2b3b"
      },
      "source": [
        "arr = [1, -1, 2, 7]\n",
        "insertionSort(arr)\n",
        "print(arr)"
      ],
      "execution_count": 74,
      "outputs": [
        {
          "output_type": "stream",
          "text": [
            "[7, 2, 1, -1]\n"
          ],
          "name": "stdout"
        }
      ]
    },
    {
      "cell_type": "code",
      "metadata": {
        "id": "5l2WUMQwRI1G"
      },
      "source": [
        "def rotation(L, d):\n",
        "  G = []\n",
        "  for i in range(0, len(L)):\n",
        "    G += ['a']\n",
        "    z = (i + d)\n",
        "    if z in range(d, len(L)):\n",
        "      G[i] = L[z]\n",
        "    else:\n",
        "      if z in range(len(L), (len(L) + d)):\n",
        "        z = z % len(L)\n",
        "        G[i] = L[z]\n",
        "  return G"
      ],
      "execution_count": 261,
      "outputs": []
    },
    {
      "cell_type": "code",
      "metadata": {
        "colab": {
          "base_uri": "https://localhost:8080/"
        },
        "id": "ZpSMeInDcfgc",
        "outputId": "fa206775-1686-4a66-d8b8-b6e731e84096"
      },
      "source": [
        "rotation([0, 1, 2, 3, 4, 5], 8)\n"
      ],
      "execution_count": 268,
      "outputs": [
        {
          "output_type": "execute_result",
          "data": {
            "text/plain": [
              "[2, 3, 4, 5, 0, 1]"
            ]
          },
          "metadata": {
            "tags": []
          },
          "execution_count": 268
        }
      ]
    },
    {
      "cell_type": "code",
      "metadata": {
        "colab": {
          "base_uri": "https://localhost:8080/"
        },
        "id": "QshSY4X9vVj3",
        "outputId": "0fdec8a7-ca03-456b-9662-c08caba189b5"
      },
      "source": [
        "rotation([0, 1, 2, 3, 4, 5], 3)"
      ],
      "execution_count": 269,
      "outputs": [
        {
          "output_type": "execute_result",
          "data": {
            "text/plain": [
              "[3, 4, 5, 0, 1, 2]"
            ]
          },
          "metadata": {
            "tags": []
          },
          "execution_count": 269
        }
      ]
    },
    {
      "cell_type": "code",
      "metadata": {
        "id": "Id7i8R2qv1xP"
      },
      "source": [
        "def sum_natural(n):\n",
        "  if type(n) == int:\n",
        "    if n == 0: \n",
        "      return 0\n",
        "    if n > 0:\n",
        "      return sum_natural(n-1) + n\n",
        "  else:\n",
        "     print(\"podaj liczbę naturalną\") \n",
        "\n"
      ],
      "execution_count": 277,
      "outputs": []
    },
    {
      "cell_type": "code",
      "metadata": {
        "colab": {
          "base_uri": "https://localhost:8080/"
        },
        "id": "JUOAKVFSxg4L",
        "outputId": "30d6a98b-57cd-473f-f413-aca10e0b0e0f"
      },
      "source": [
        "sum_natural(968)"
      ],
      "execution_count": 290,
      "outputs": [
        {
          "output_type": "execute_result",
          "data": {
            "text/plain": [
              "468996"
            ]
          },
          "metadata": {
            "tags": []
          },
          "execution_count": 290
        }
      ]
    }
  ]
}